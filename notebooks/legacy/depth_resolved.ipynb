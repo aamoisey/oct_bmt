{
 "cells": [
  {
   "cell_type": "code",
   "execution_count": 1,
   "metadata": {},
   "outputs": [],
   "source": [
    "import numpy as np\n",
    "import sys\n",
    "sys.path.append('C:/python_scripts')\n",
    "from oct_processing import optical_properties as op"
   ]
  },
  {
   "cell_type": "code",
   "execution_count": 2,
   "metadata": {
    "scrolled": true
   },
   "outputs": [
    {
     "name": "stdout",
     "output_type": "stream",
     "text": [
      "33-58\n",
      "_map\n",
      "Chernova_43_distroph_right middle biopsy_01_variant_4_att_co_from33to58.png\n",
      "Chernova_43_distroph_right middle biopsy_01_variant_4_att_cross_from33to58.png\n",
      "Chernova_43_distroph_right middle biopsy_01_variant_4_diff_att_from33to58.png\n",
      "Golubeva_63_norma_left down_variant_4_att_co_from33to58.png\n",
      "Golubeva_63_norma_left down_variant_4_att_cross_from33to58.png\n",
      "Golubeva_63_norma_left down_variant_4_diff_att_from33to58.png\n",
      "(14128,)\n",
      "Kalashnikova_63_distroph_left_middle_biopsy_variant_4_att_co_from33to58.png\n",
      "Kalashnikova_63_distroph_left_middle_biopsy_variant_4_att_cross_from33to58.png\n",
      "(9877,)\n",
      "Kalashnikova_63_distroph_left_middle_biopsy_variant_4_diff_att_from33to58.png\n",
      "Toropova_51_right_down_variant_4_att_co_from33to58.png\n",
      "Toropova_51_right_down_variant_4_att_cross_from33to58.png\n",
      "Toropova_51_right_down_variant_4_diff_att_from33to58.png\n",
      "Vinogradova_60_distroph_left_middle_biopsy_variant_4_att_co_from33to58.png\n",
      "(12061,)\n",
      "Vinogradova_60_distroph_left_middle_biopsy_variant_4_att_cross_from33to58.png\n",
      "Vinogradova_60_distroph_left_middle_biopsy_variant_4_diff_att_from33to58.png\n",
      "Volkova_63_distr_right_middle_biopsy_variant_4_att_co_from33to58.png\n",
      "(6018,)\n",
      "Volkova_63_distr_right_middle_biopsy_variant_4_att_cross_from33to58.png\n",
      "Volkova_63_distr_right_middle_biopsy_variant_4_diff_att_from33to58.png\n",
      "_npy\n",
      "Chernova_43_distroph_right middle biopsy_01_variant_4_map_co_from33to58.npy\n",
      "(131088,)\n",
      "Chernova_43_distroph_right middle biopsy_01_variant_4_map_cross_from33to58.npy\n",
      "(131088,)\n",
      "Chernova_43_distroph_right middle biopsy_01_variant_4_map_diff_from33to58.npy\n",
      "(131088,)\n",
      "Golubeva_63_norma_left down_variant_4_map_co_from33to58.npy\n",
      "(131088,)\n",
      "Golubeva_63_norma_left down_variant_4_map_cross_from33to58.npy\n",
      "(131088,)\n",
      "Golubeva_63_norma_left down_variant_4_map_diff_from33to58.npy\n",
      "(131088,)\n",
      "Kalashnikova_63_distroph_left_middle_biopsy_variant_4_map_co_from33to58.npy\n",
      "(131088,)\n",
      "Kalashnikova_63_distroph_left_middle_biopsy_variant_4_map_cross_from33to58.npy\n",
      "(131088,)\n",
      "Kalashnikova_63_distroph_left_middle_biopsy_variant_4_map_diff_from33to58.npy\n",
      "(131088,)\n",
      "Toropova_51_right_down_variant_4_map_co_from33to58.npy\n",
      "(131088,)\n",
      "Toropova_51_right_down_variant_4_map_cross_from33to58.npy\n",
      "(131088,)\n",
      "Toropova_51_right_down_variant_4_map_diff_from33to58.npy\n",
      "(131088,)\n",
      "Vinogradova_60_distroph_left_middle_biopsy_variant_4_map_co_from33to58.npy\n",
      "(131088,)\n",
      "Vinogradova_60_distroph_left_middle_biopsy_variant_4_map_cross_from33to58.npy\n",
      "(131088,)\n",
      "Vinogradova_60_distroph_left_middle_biopsy_variant_4_map_diff_from33to58.npy\n",
      "(131088,)\n",
      "Volkova_63_distr_right_middle_biopsy_variant_4_map_co_from33to58.npy\n",
      "(131088,)\n",
      "Volkova_63_distr_right_middle_biopsy_variant_4_map_cross_from33to58.npy\n",
      "(131088,)\n",
      "Volkova_63_distr_right_middle_biopsy_variant_4_map_diff_from33to58.npy\n",
      "(131088,)\n",
      "_xls\n",
      "Belysheva_58_right down.dat\n",
      "(67108864,)\n",
      "2422.2669854913306\n",
      "1927.7682504988318\n",
      "Bulatkina_57_distroph_right_down.dat\n",
      "(67108864,)\n",
      "3476.1917101699178\n",
      "2574.9099861801215\n",
      "Chernova_43_distroph_right middle biopsy_01.bmp\n",
      "Chernova_43_distroph_right middle biopsy_01.dat\n",
      "(67108864,)\n",
      "2982.789849396265\n",
      "2400.0913869578194\n",
      "Golubeva_63_norma_left down.bmp\n",
      "Golubeva_63_norma_left down.dat\n",
      "(67108864,)\n",
      "2939.196347581041\n",
      "1924.4875024471535\n",
      "Kalashnikova_63_distroph_left_middle_biopsy.bmp\n",
      "Kalashnikova_63_distroph_left_middle_biopsy.dat\n",
      "(67108864,)\n",
      "3424.9818294860283\n",
      "2252.2649702448043\n",
      "Plahova_57_distrophia_right_middle.dat\n",
      "(67108864,)\n",
      "5895.070946199547\n",
      "5261.954915940667\n",
      "Toropova_51_right_down.bmp\n",
      "Toropova_51_right_down.dat\n",
      "(67108864,)\n",
      "3680.599048365993\n",
      "2625.093675072186\n",
      "Vinogradova_60_distroph_left_middle_biopsy.bmp\n",
      "Vinogradova_60_distroph_left_middle_biopsy.dat\n",
      "(67108864,)\n",
      "3843.833129341089\n",
      "2548.5212525213924\n",
      "Volkova_63_distr_right_middle_biopsy.bmp\n",
      "Volkova_63_distr_right_middle_biopsy.dat\n",
      "(67108864,)\n",
      "3243.846608794166\n",
      "2494.5112370412735\n",
      "~$Презентация Microsoft PowerPoint.pptx\n",
      "Новая папка\n",
      "Презентация Microsoft PowerPoint.pptx\n"
     ]
    },
    {
     "data": {
      "text/plain": [
       "()"
      ]
     },
     "execution_count": 2,
     "metadata": {},
     "output_type": "execute_result"
    }
   ],
   "source": [
    "foldername = 'C:/Users/Arseniy/Desktop/Dat test/ALT 2022'\n",
    "Nmin=33  # глубина обработки в px\n",
    "Nmax=58\n",
    "Nindent=30\n",
    "variant=4 # 4 - по глубине; 2 - логарифмический\n",
    "conversion_coefficient=.01\n",
    "vmin_co= 0.\n",
    "vmax_co= 12.\n",
    "vmin_cross= 0.\n",
    "vmax_cross= 12.\n",
    "vmin_diff = 0.\n",
    "vmax_diff = 12.\n",
    "op.do_in_folder(foldername, Nmax=Nmax, Nmin=Nmin, Nindent=Nindent, variant=variant, conversion_coefficient=conversion_coefficient,\n",
    "                    vmin_co=vmin_co, vmax_co=vmax_co, vmin_cross=vmin_cross, vmax_cross=vmax_cross,vmin_diff=vmin_diff,vmax_diff=vmax_diff)"
   ]
  },
  {
   "cell_type": "code",
   "execution_count": null,
   "metadata": {},
   "outputs": [],
   "source": []
  },
  {
   "cell_type": "code",
   "execution_count": null,
   "metadata": {},
   "outputs": [],
   "source": []
  },
  {
   "cell_type": "code",
   "execution_count": null,
   "metadata": {},
   "outputs": [],
   "source": []
  },
  {
   "cell_type": "code",
   "execution_count": null,
   "metadata": {},
   "outputs": [],
   "source": []
  }
 ],
 "metadata": {
  "kernelspec": {
   "display_name": "Python 3 (ipykernel)",
   "language": "python",
   "name": "python3"
  },
  "language_info": {
   "codemirror_mode": {
    "name": "ipython",
    "version": 3
   },
   "file_extension": ".py",
   "mimetype": "text/x-python",
   "name": "python",
   "nbconvert_exporter": "python",
   "pygments_lexer": "ipython3",
   "version": "3.9.12"
  }
 },
 "nbformat": 4,
 "nbformat_minor": 2
}
