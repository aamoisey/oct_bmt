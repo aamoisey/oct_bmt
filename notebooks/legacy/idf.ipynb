{
 "cells": [
  {
   "cell_type": "code",
   "execution_count": 4,
   "metadata": {
    "collapsed": true
   },
   "outputs": [],
   "source": [
    "import sys\n",
    "import os\n",
    "sys.path.append('D:/Sirotkina/2016/vessels/')\n",
    "from patients import polarization_idf"
   ]
  },
  {
   "cell_type": "code",
   "execution_count": 19,
   "metadata": {
    "collapsed": false
   },
   "outputs": [],
   "source": [
    "folderpath = 'D:/IDF_BCC/superficial_BCC' #Insert correct path to folder with files here\n",
    "if os.path.exists(folderpath):\n",
    "    Zmin = 10 #minimal depth for IDF calculations\n",
    "    Zmax = 100 #maximal depth for IDF calculations\n",
    "    Dx = 20 #distance from tomogram lateral borders\n",
    "else:\n",
    "    print ('Folder does not exist. Please, check path to folder')"
   ]
  },
  {
   "cell_type": "code",
   "execution_count": 20,
   "metadata": {
    "collapsed": false,
    "scrolled": false
   },
   "outputs": [
    {
     "name": "stdout",
     "output_type": "stream",
     "text": [
      "((45, 2), 45)\n"
     ]
    }
   ],
   "source": [
    "data = polarization_idf.idf_in_folder(folderpath)"
   ]
  },
  {
   "cell_type": "code",
   "execution_count": null,
   "metadata": {
    "collapsed": true
   },
   "outputs": [],
   "source": []
  },
  {
   "cell_type": "code",
   "execution_count": null,
   "metadata": {
    "collapsed": true
   },
   "outputs": [],
   "source": []
  }
 ],
 "metadata": {
  "anaconda-cloud": {},
  "kernelspec": {
   "display_name": "Python [Root]",
   "language": "python",
   "name": "Python [Root]"
  },
  "language_info": {
   "codemirror_mode": {
    "name": "ipython",
    "version": 2
   },
   "file_extension": ".py",
   "mimetype": "text/x-python",
   "name": "python",
   "nbconvert_exporter": "python",
   "pygments_lexer": "ipython2",
   "version": "2.7.12"
  }
 },
 "nbformat": 4,
 "nbformat_minor": 2
}
