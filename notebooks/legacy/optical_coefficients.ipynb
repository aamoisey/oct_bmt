{
 "cells": [
  {
   "cell_type": "code",
   "execution_count": 1,
   "metadata": {
    "collapsed": true,
    "scrolled": true
   },
   "outputs": [],
   "source": [
    "import numpy as np\n",
    "import sys\n",
    "sys.path.append('C:/vessels') #('/home/alexander/Python_Scripts')\n",
    "from patients import brain_\n",
    "from importlib import reload"
   ]
  },
  {
   "cell_type": "code",
   "execution_count": 27,
   "metadata": {
    "collapsed": true
   },
   "outputs": [],
   "source": [
    "Xindent = 30 # Отступ по краям, чтобы убрать заворот\n",
    "Zmin = 40 # Минимальная глубина, с которой происходит определение коэффициентов\n",
    "Zmax = 80 # Максимальная глубина, до которой происходит определение коэффициентов\n",
    "foldername = 'D:/Human Brain/White Matter bmp/subsample' #папка в которой лежат исходные файлы"
   ]
  },
  {
   "cell_type": "code",
   "execution_count": 21,
   "metadata": {
    "scrolled": true
   },
   "outputs": [
    {
     "name": "stdout",
     "output_type": "stream",
     "text": [
      "Br_R41_In_GM_2017-09-22_01_Left_13-2raz_cont_razvorot.dat\n",
      "(67108864,)\n",
      "(67108864,)\n"
     ]
    },
    {
     "name": "stderr",
     "output_type": "stream",
     "text": [
      "C:\\Users\\Anton\\Anaconda3\\lib\\site-packages\\skimage\\morphology\\misc.py:122: UserWarning: Only one label was provided to `remove_small_objects`. Did you mean to use a boolean array?\n",
      "  warn(\"Only one label was provided to `remove_small_objects`. \"\n"
     ]
    },
    {
     "name": "stdout",
     "output_type": "stream",
     "text": [
      "3 (40, 131072) (40, 131072)\n",
      "(2, 131072) (2, 131072)\n",
      "(2, 512) (2, 512)\n",
      "(2, 196) (2, 196)\n",
      "_npy\n",
      "Br_R41_In_GM_2017-09-22_01_Left_13-2raz_cont_razvorot_2d_axis0.npy\n",
      "(598,)\n",
      "Br_R41_In_GM_2017-09-22_01_Left_13-2raz_cont_razvorot_2d_axis2.npy\n",
      "(1546,)\n",
      "Br_R41_In_GM_2017-09-22_01_Left_13-2raz_cont_razvorot_3d.npy\n",
      "(393226,)\n",
      "_xls\n",
      "Br_R41_In_GM_2017-09-22_01_Left_13-2raz_cont_razvorot_2d_axis0.xls\n",
      "(3776,)\n",
      "Br_R41_In_GM_2017-09-22_01_Left_13-2raz_cont_razvorot_2d_axis2.xls\n",
      "(8960,)\n",
      "Br_R41_In_GM_2017-09-22_01_Left_13-2raz_cont_razvorot_3d.xls\n",
      "(1068416,)\n"
     ]
    },
    {
     "data": {
      "text/plain": [
       "()"
      ]
     },
     "execution_count": 21,
     "metadata": {},
     "output_type": "execute_result"
    }
   ],
   "source": [
    "# Запускай этот блок, если хочешь посчитать коэффициенты в объёме\n",
    "reload(brain_)\n",
    "brain_.do_in_folder(foldername,Zmax,Zmin,Xindent,'3d')"
   ]
  },
  {
   "cell_type": "code",
   "execution_count": 17,
   "metadata": {},
   "outputs": [
    {
     "name": "stdout",
     "output_type": "stream",
     "text": [
      "Br_R41_In_GM_2017-09-22_01_Left_13-2raz_cont_razvorot.dat\n",
      "(67108864,)\n",
      "(67108864,)\n",
      "equal_phase\n"
     ]
    },
    {
     "ename": "KeyboardInterrupt",
     "evalue": "",
     "output_type": "error",
     "traceback": [
      "\u001b[1;31m---------------------------------------------------------------------------\u001b[0m",
      "\u001b[1;31mKeyboardInterrupt\u001b[0m                         Traceback (most recent call last)",
      "\u001b[1;32m<ipython-input-17-06c3dc129660>\u001b[0m in \u001b[0;36m<module>\u001b[1;34m()\u001b[0m\n\u001b[0;32m      1\u001b[0m \u001b[1;31m# Запускай этот блок, если хочешь посчитать коэффициенты в объёме без учета сосудов\u001b[0m\u001b[1;33m\u001b[0m\u001b[1;33m\u001b[0m\u001b[0m\n\u001b[0;32m      2\u001b[0m \u001b[0mreload\u001b[0m\u001b[1;33m(\u001b[0m\u001b[0mbrain_\u001b[0m\u001b[1;33m)\u001b[0m\u001b[1;33m\u001b[0m\u001b[0m\n\u001b[1;32m----> 3\u001b[1;33m \u001b[0mbrain_\u001b[0m\u001b[1;33m.\u001b[0m\u001b[0mdo_in_folder\u001b[0m\u001b[1;33m(\u001b[0m\u001b[0mfoldername\u001b[0m\u001b[1;33m,\u001b[0m\u001b[0mZmax\u001b[0m\u001b[1;33m,\u001b[0m\u001b[0mZmin\u001b[0m\u001b[1;33m,\u001b[0m\u001b[0mXindent\u001b[0m\u001b[1;33m,\u001b[0m\u001b[1;34m'3d_vessels'\u001b[0m\u001b[1;33m)\u001b[0m\u001b[1;33m\u001b[0m\u001b[0m\n\u001b[0m",
      "\u001b[1;32mC:/vessels\\patients\\brain_.py\u001b[0m in \u001b[0;36mdo_in_folder\u001b[1;34m(folder_name, Nmax, Nmin, Nindent, mode)\u001b[0m\n\u001b[0;32m    452\u001b[0m                     \u001b[0mcoeffs\u001b[0m \u001b[1;33m=\u001b[0m \u001b[0moptical_coeff\u001b[0m\u001b[1;33m(\u001b[0m\u001b[0mfilename\u001b[0m\u001b[1;33m,\u001b[0m\u001b[0mNmax\u001b[0m\u001b[1;33m,\u001b[0m\u001b[0mNmin\u001b[0m\u001b[1;33m,\u001b[0m\u001b[0mNindent\u001b[0m\u001b[1;33m)\u001b[0m\u001b[1;33m\u001b[0m\u001b[0m\n\u001b[0;32m    453\u001b[0m                 \u001b[1;32melif\u001b[0m \u001b[0mmode\u001b[0m\u001b[1;33m==\u001b[0m\u001b[1;34m'3d_vessels'\u001b[0m\u001b[1;33m:\u001b[0m\u001b[1;33m\u001b[0m\u001b[0m\n\u001b[1;32m--> 454\u001b[1;33m                     \u001b[0mcoeffs\u001b[0m \u001b[1;33m=\u001b[0m \u001b[0moptical_coeff_vessels\u001b[0m\u001b[1;33m(\u001b[0m\u001b[0mfilename\u001b[0m\u001b[1;33m,\u001b[0m\u001b[0mNmax\u001b[0m\u001b[1;33m,\u001b[0m\u001b[0mNmin\u001b[0m\u001b[1;33m,\u001b[0m\u001b[0mNindent\u001b[0m\u001b[1;33m)\u001b[0m\u001b[1;33m\u001b[0m\u001b[0m\n\u001b[0m\u001b[0;32m    455\u001b[0m                 \u001b[1;32melse\u001b[0m\u001b[1;33m:\u001b[0m\u001b[1;33m\u001b[0m\u001b[0m\n\u001b[0;32m    456\u001b[0m                     \u001b[0mcoeffs\u001b[0m \u001b[1;33m=\u001b[0m \u001b[0mcoeff_b_scans\u001b[0m\u001b[1;33m(\u001b[0m\u001b[0mfilename\u001b[0m\u001b[1;33m,\u001b[0m\u001b[0mNmax\u001b[0m\u001b[1;33m,\u001b[0m\u001b[0mNmin\u001b[0m\u001b[1;33m,\u001b[0m\u001b[0mNindent\u001b[0m\u001b[1;33m)\u001b[0m\u001b[1;33m\u001b[0m\u001b[0m\n",
      "\u001b[1;32mC:/vessels\\patients\\brain_.py\u001b[0m in \u001b[0;36moptical_coeff_vessels\u001b[1;34m(filename, Nmax, Nmin, Nindent)\u001b[0m\n\u001b[0;32m    262\u001b[0m     \u001b[0marray\u001b[0m \u001b[1;33m=\u001b[0m \u001b[0mimport_SU_bin\u001b[0m\u001b[1;33m(\u001b[0m\u001b[0mfilename\u001b[0m\u001b[1;33m,\u001b[0m\u001b[1;33m(\u001b[0m\u001b[1;36m1024\u001b[0m\u001b[1;33m,\u001b[0m\u001b[1;36m256\u001b[0m\u001b[1;33m,\u001b[0m\u001b[1;36m256\u001b[0m\u001b[1;33m)\u001b[0m\u001b[1;33m,\u001b[0m\u001b[0mnp\u001b[0m\u001b[1;33m.\u001b[0m\u001b[0mcomplex64\u001b[0m\u001b[1;33m)\u001b[0m\u001b[1;33m\u001b[0m\u001b[0m\n\u001b[0;32m    263\u001b[0m \u001b[1;33m\u001b[0m\u001b[0m\n\u001b[1;32m--> 264\u001b[1;33m     \u001b[0mmip0\u001b[0m \u001b[1;33m=\u001b[0m \u001b[0mvessels_mip\u001b[0m\u001b[1;33m(\u001b[0m\u001b[0mfilename\u001b[0m\u001b[1;33m)\u001b[0m\u001b[1;33m\u001b[0m\u001b[0m\n\u001b[0m\u001b[0;32m    265\u001b[0m \u001b[1;33m\u001b[0m\u001b[0m\n\u001b[0;32m    266\u001b[0m     \u001b[0mmip_\u001b[0m \u001b[1;33m=\u001b[0m \u001b[0mtv\u001b[0m\u001b[1;33m(\u001b[0m\u001b[0mmip0\u001b[0m\u001b[1;33m,\u001b[0m\u001b[1;36m20\u001b[0m\u001b[1;33m)\u001b[0m\u001b[1;33m\u001b[0m\u001b[0m\n",
      "\u001b[1;32mC:/vessels\\patients\\brain_.py\u001b[0m in \u001b[0;36mvessels_mip\u001b[1;34m(filename)\u001b[0m\n\u001b[0;32m    665\u001b[0m     \u001b[0mprint\u001b[0m\u001b[1;33m(\u001b[0m\u001b[1;34m'equal_phase'\u001b[0m\u001b[1;33m)\u001b[0m\u001b[1;33m\u001b[0m\u001b[0m\n\u001b[0;32m    666\u001b[0m     \u001b[1;32mfor\u001b[0m \u001b[0mi\u001b[0m \u001b[1;32min\u001b[0m \u001b[0mrange\u001b[0m\u001b[1;33m(\u001b[0m\u001b[1;36m16\u001b[0m\u001b[1;33m)\u001b[0m\u001b[1;33m:\u001b[0m\u001b[1;33m\u001b[0m\u001b[0m\n\u001b[1;32m--> 667\u001b[1;33m         \u001b[0mA\u001b[0m\u001b[1;33m[\u001b[0m\u001b[1;33m:\u001b[0m\u001b[1;33m,\u001b[0m\u001b[1;33m:\u001b[0m\u001b[1;33m,\u001b[0m\u001b[0mi\u001b[0m\u001b[1;33m:\u001b[0m\u001b[1;33m:\u001b[0m\u001b[1;36m16\u001b[0m\u001b[1;33m]\u001b[0m \u001b[1;33m=\u001b[0m \u001b[0mreal_cumul_angle\u001b[0m\u001b[1;33m(\u001b[0m\u001b[0marray\u001b[0m\u001b[1;33m[\u001b[0m\u001b[1;33m:\u001b[0m\u001b[1;33m,\u001b[0m\u001b[1;33m:\u001b[0m\u001b[1;33m,\u001b[0m\u001b[0mi\u001b[0m\u001b[1;33m:\u001b[0m\u001b[1;33m:\u001b[0m\u001b[1;36m16\u001b[0m\u001b[1;33m]\u001b[0m\u001b[1;33m,\u001b[0m\u001b[0mN\u001b[0m\u001b[1;33m=\u001b[0m\u001b[1;36m80\u001b[0m\u001b[1;33m,\u001b[0m\u001b[0mamplitude\u001b[0m\u001b[1;33m=\u001b[0m\u001b[1;32mFalse\u001b[0m\u001b[1;33m)\u001b[0m\u001b[1;33m\u001b[0m\u001b[0m\n\u001b[0m\u001b[0;32m    668\u001b[0m     \u001b[0mprint\u001b[0m\u001b[1;33m(\u001b[0m\u001b[1;34m'vasc_process'\u001b[0m\u001b[1;33m)\u001b[0m\u001b[1;33m\u001b[0m\u001b[0m\n\u001b[0;32m    669\u001b[0m     \u001b[1;32mfor\u001b[0m \u001b[0mi\u001b[0m \u001b[1;32min\u001b[0m \u001b[0mrange\u001b[0m\u001b[1;33m(\u001b[0m\u001b[1;36m16\u001b[0m\u001b[1;33m)\u001b[0m\u001b[1;33m:\u001b[0m\u001b[1;33m\u001b[0m\u001b[0m\n",
      "\u001b[1;32mC:/vessels\\patients\\brain_.py\u001b[0m in \u001b[0;36mreal_cumul_angle\u001b[1;34m(array, N, amplitude)\u001b[0m\n\u001b[0;32m    573\u001b[0m             \u001b[0maux\u001b[0m \u001b[1;33m=\u001b[0m \u001b[0maux\u001b[0m\u001b[1;33m[\u001b[0m\u001b[0mnp\u001b[0m\u001b[1;33m.\u001b[0m\u001b[0mnewaxis\u001b[0m\u001b[1;33m,\u001b[0m\u001b[1;33m:\u001b[0m\u001b[1;33m]\u001b[0m\u001b[1;33m\u001b[0m\u001b[0m\n\u001b[0;32m    574\u001b[0m \u001b[1;33m\u001b[0m\u001b[0m\n\u001b[1;32m--> 575\u001b[1;33m         \u001b[0mresult\u001b[0m\u001b[1;33m[\u001b[0m\u001b[0mi\u001b[0m\u001b[1;33m,\u001b[0m\u001b[1;33m:\u001b[0m\u001b[1;33m,\u001b[0m\u001b[1;33m:\u001b[0m\u001b[1;33m]\u001b[0m \u001b[1;33m=\u001b[0m \u001b[0marray\u001b[0m\u001b[1;33m[\u001b[0m\u001b[0mi\u001b[0m\u001b[1;33m,\u001b[0m\u001b[1;33m:\u001b[0m\u001b[1;33m,\u001b[0m\u001b[1;33m:\u001b[0m\u001b[1;33m]\u001b[0m\u001b[1;33m*\u001b[0m\u001b[0mnp\u001b[0m\u001b[1;33m.\u001b[0m\u001b[0mexp\u001b[0m\u001b[1;33m(\u001b[0m\u001b[1;33m-\u001b[0m\u001b[1;36m1j\u001b[0m\u001b[1;33m*\u001b[0m\u001b[0maux\u001b[0m\u001b[1;33m)\u001b[0m  \u001b[1;31m#np.real(array[i,:,:])*np.cos(aux)-1j*np.imag(array[i,:,:])*np.sin(aux) #array[i,:,:]*np.exp(-1j*aux)\u001b[0m\u001b[1;33m\u001b[0m\u001b[0m\n\u001b[0m\u001b[0;32m    576\u001b[0m \u001b[1;33m\u001b[0m\u001b[0m\n\u001b[0;32m    577\u001b[0m         \u001b[1;32mif\u001b[0m \u001b[0mamplitude\u001b[0m\u001b[1;33m==\u001b[0m\u001b[1;32mTrue\u001b[0m\u001b[1;33m:\u001b[0m\u001b[1;33m\u001b[0m\u001b[0m\n",
      "\u001b[1;31mKeyboardInterrupt\u001b[0m: "
     ]
    }
   ],
   "source": [
    "# Запускай этот блок, если хочешь посчитать коэффициенты в объёме без учета сосудов\n",
    "reload(brain_)\n",
    "brain_.do_in_folder(foldername,Zmax,Zmin,Xindent,'3d_vessels')"
   ]
  },
  {
   "cell_type": "code",
   "execution_count": 29,
   "metadata": {},
   "outputs": [
    {
     "name": "stdout",
     "output_type": "stream",
     "text": [
      "10.11.16_Destruction2.2_z389.bmp\n",
      "10.11.16_Destruction_1.1_z277.bmp\n",
      "10.11.16_Destruction_1.2_z277.bmp\n"
     ]
    },
    {
     "name": "stderr",
     "output_type": "stream",
     "text": [
      "C:\\Users\\Anton\\Anaconda3\\lib\\site-packages\\skimage\\morphology\\misc.py:122: UserWarning: Only one label was provided to `remove_small_objects`. Did you mean to use a boolean array?\n",
      "  warn(\"Only one label was provided to `remove_small_objects`. \"\n"
     ]
    },
    {
     "name": "stdout",
     "output_type": "stream",
     "text": [
      "10.11.16_Destruction_2.1_z389.bmp\n",
      "10.11.16_Destruction_2.3_z389.bmp\n",
      "Brain1_1_z257.bmp\n",
      "Brain1_2_z257.bmp\n",
      "Brain1_3_z257.bmp\n",
      "_npy\n",
      "10.11.16_Destruction2.2_z389_coeff.npy\n",
      "10.11.16_Destruction_1.1_z277_coeff.npy\n",
      "10.11.16_Destruction_1.2_z277_coeff.npy\n",
      "10.11.16_Destruction_2.1_z389_coeff.npy\n",
      "10.11.16_Destruction_2.3_z389_coeff.npy\n",
      "Brain1_1_z257_coeff.npy\n",
      "Brain1_2_z257_coeff.npy\n",
      "Brain1_3_z257_coeff.npy\n",
      "_xls\n",
      "10.11.16_Destruction2.2_z389_coeffs.xls\n",
      "10.11.16_Destruction_1.1_z277_coeffs.xls\n",
      "10.11.16_Destruction_1.2_z277_coeffs.xls\n",
      "10.11.16_Destruction_2.1_z389_coeffs.xls\n",
      "10.11.16_Destruction_2.3_z389_coeffs.xls\n",
      "Brain1_1_z257_coeffs.xls\n",
      "Brain1_2_z257_coeffs.xls\n",
      "Brain1_3_z257_coeffs.xls\n"
     ]
    },
    {
     "data": {
      "text/plain": [
       "()"
      ]
     },
     "execution_count": 29,
     "metadata": {},
     "output_type": "execute_result"
    }
   ],
   "source": [
    "# Запускай этот блок, если хочешь посчитать отдельно сохранённые B-сканы\n",
    "reload(brain_)\n",
    "brain_.do_in_folder(foldername,Zmax,Zmin,Xindent,'2d')"
   ]
  },
  {
   "cell_type": "code",
   "execution_count": null,
   "metadata": {
    "collapsed": true
   },
   "outputs": [],
   "source": []
  }
 ],
 "metadata": {
  "anaconda-cloud": {},
  "kernelspec": {
   "display_name": "Python [conda root]",
   "language": "python",
   "name": "conda-root-py"
  },
  "language_info": {
   "codemirror_mode": {
    "name": "ipython",
    "version": 3
   },
   "file_extension": ".py",
   "mimetype": "text/x-python",
   "name": "python",
   "nbconvert_exporter": "python",
   "pygments_lexer": "ipython3",
   "version": "3.5.3"
  }
 },
 "nbformat": 4,
 "nbformat_minor": 2
}
