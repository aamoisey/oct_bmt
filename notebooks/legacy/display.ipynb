{
 "cells": [
  {
   "cell_type": "code",
   "execution_count": 1,
   "metadata": {
    "collapsed": true
   },
   "outputs": [],
   "source": [
    "import numpy as np\n",
    "import matplotlib.pyplot as plt\n",
    "%matplotlib inline"
   ]
  },
  {
   "cell_type": "code",
   "execution_count": 2,
   "metadata": {
    "collapsed": true
   },
   "outputs": [],
   "source": [
    "colors = ('g','b','r','c','m','y','k')"
   ]
  },
  {
   "cell_type": "code",
   "execution_count": 19,
   "metadata": {
    "collapsed": true
   },
   "outputs": [],
   "source": [
    "# список файлов для отображения максимум 7 файлов.\n",
    "# оптические коэффициенты хранятся внутри папки с исходниками в папке _npy (создается\n",
    "# при исполнении программы). Суффикс 3d означает, чтоткоэффициенты получены для каждого А-скана,\n",
    "# 2d_axis0 для А-сканов, усреднённых по медленной координате, 2d_axis2 - по быстрой.\n",
    "# список обязательно заключать в круглые скобки,\n",
    "# если в списке один файл, после его имени необходимо поставить запятую.\n",
    "file_list = ('/media/alexander/Elements1/Human Brain/data/radiational necrosis RN/_npy/Brain_1_2d_axis0.npy',\n",
    "             '/media/alexander/Elements1/Human Brain/data/radiational necrosis RN/_npy/Brain_1_2d_axis2.npy',\n",
    "             '/media/alexander/Elements1/Human Brain/data/radiational necrosis RN/_npy/Brain_2_2d_axis0.npy',\n",
    "             '/media/alexander/Elements1/Human Brain/data/radiational necrosis RN/_npy/Brain_2_2d_axis2.npy',\n",
    "             '/media/alexander/Elements1/Human Brain/data/radiational necrosis RN/_npy/Brain_3_2d_axis0.npy',\n",
    "             '/media/alexander/Elements1/Human Brain/data/radiational necrosis RN/_npy/Brain_3_2d_axis2.npy')"
   ]
  },
  {
   "cell_type": "code",
   "execution_count": 20,
   "metadata": {},
   "outputs": [
    {
     "name": "stdout",
     "output_type": "stream",
     "text": [
      "(4, 216)\n",
      "(4, 512)\n",
      "(4, 216)\n",
      "(4, 512)\n",
      "(4, 216)\n",
      "(4, 512)\n"
     ]
    },
    {
     "data": {
      "image/png": "[encoded data removed]",
      "text/plain": [
       "<matplotlib.figure.Figure at 0x7f012018bc50>"
      ]
     },
     "metadata": {},
     "output_type": "display_data"
    }
   ],
   "source": [
    "# при запуске этой ячейки строятся распределения выбранных коэффициентов для выбранных файлов.\n",
    "# зелёный цвет - первый файл, синий - второй, красный - третий,\n",
    "# голубой - четвёртый, маджента - пятый, желтый - шестой, черный - седьмой.\n",
    "\n",
    "# Здесь происходит выбор коэффициентов для отображения.\n",
    "row = [1,0] # 0 - коэффициент рассеяния прямая поляризация,\n",
    "# 1- коэффициент обратного рассеяния прямая поляризация,\n",
    "# 2 - коэффициент рассеяния ортогональная поляризация,\n",
    "# 3- коэффициент обратного рассеяния ортогональная поляризация\n",
    "\n",
    "\n",
    "N = len(file_list)\n",
    "for i in range(N):\n",
    "    try:\n",
    "        data = np.load(file_list[i])\n",
    "        plt.scatter(data[row[0],:],data[row[1],:],c=colors[i])\n",
    "    except IOError:\n",
    "        pass"
   ]
  },
  {
   "cell_type": "code",
   "execution_count": 27,
   "metadata": {},
   "outputs": [
    {
     "data": {
      "text/plain": [
       "(array([[ 0.,  0.,  0., ...,  0.,  0.,  1.],\n",
       "        [ 0.,  0.,  0., ...,  0.,  0.,  0.],\n",
       "        [ 0.,  0.,  0., ...,  0.,  0.,  0.],\n",
       "        ..., \n",
       "        [ 1.,  0.,  0., ...,  0.,  0.,  0.],\n",
       "        [ 0.,  0.,  0., ...,  0.,  0.,  0.],\n",
       "        [ 3.,  0.,  0., ...,  0.,  0.,  0.]]),\n",
       " array([ 6.35374858,  6.3748933 ,  6.39603801,  6.41718273,  6.43832745,\n",
       "         6.45947217,  6.48061688,  6.5017616 ,  6.52290632,  6.54405104,\n",
       "         6.56519575,  6.58634047,  6.60748519,  6.62862991,  6.64977462,\n",
       "         6.67091934,  6.69206406,  6.71320877,  6.73435349,  6.75549821,\n",
       "         6.77664293,  6.79778764,  6.81893236,  6.84007708,  6.8612218 ,\n",
       "         6.88236651,  6.90351123,  6.92465595,  6.94580067,  6.96694538,\n",
       "         6.9880901 ,  7.00923482,  7.03037954,  7.05152425,  7.07266897,\n",
       "         7.09381369,  7.11495841,  7.13610312,  7.15724784,  7.17839256,\n",
       "         7.19953728,  7.22068199,  7.24182671,  7.26297143,  7.28411615,\n",
       "         7.30526086,  7.32640558,  7.3475503 ,  7.36869502,  7.38983973,\n",
       "         7.41098445,  7.43212917,  7.45327388,  7.4744186 ,  7.49556332,\n",
       "         7.51670804,  7.53785275,  7.55899747,  7.58014219,  7.60128691,\n",
       "         7.62243162,  7.64357634,  7.66472106,  7.68586578,  7.70701049]),\n",
       " array([-0.04082283, -0.04063202, -0.0404412 , -0.04025039, -0.04005958,\n",
       "        -0.03986876, -0.03967795, -0.03948714, -0.03929632, -0.03910551,\n",
       "        -0.0389147 , -0.03872388, -0.03853307, -0.03834226, -0.03815144,\n",
       "        -0.03796063, -0.03776982, -0.037579  , -0.03738819, -0.03719738,\n",
       "        -0.03700656, -0.03681575, -0.03662494, -0.03643412, -0.03624331,\n",
       "        -0.03605249, -0.03586168, -0.03567087, -0.03548005, -0.03528924,\n",
       "        -0.03509843, -0.03490761, -0.0347168 , -0.03452599, -0.03433517,\n",
       "        -0.03414436, -0.03395355, -0.03376273, -0.03357192, -0.03338111,\n",
       "        -0.03319029, -0.03299948, -0.03280867, -0.03261785, -0.03242704,\n",
       "        -0.03223623, -0.03204541, -0.0318546 , -0.03166379, -0.03147297,\n",
       "        -0.03128216, -0.03109134, -0.03090053, -0.03070972, -0.0305189 ,\n",
       "        -0.03032809, -0.03013728, -0.02994646, -0.02975565, -0.02956484,\n",
       "        -0.02937402, -0.02918321, -0.0289924 , -0.02880158, -0.02861077]),\n",
       " <matplotlib.image.AxesImage at 0x7f011fe755d0>)"
      ]
     },
     "execution_count": 27,
     "metadata": {},
     "output_type": "execute_result"
    },
    {
     "data": {
      "image/png": "[encoded data removed]",
      "text/plain": [
       "<matplotlib.figure.Figure at 0x7f011f8b5210>"
      ]
     },
     "metadata": {},
     "output_type": "display_data"
    }
   ],
   "source": [
    "# при запуске этой ячейки строится двумерная гистограмма выбранных коэффициентов для одного выбранного файла.\n",
    "# Файл выбирается номером n.\n",
    "n = 3\n",
    "data = np.load(file_list[n])\n",
    "plt.hist2d(data[row[0],:],data[row[1],:],bins=64,cmap='jet')"
   ]
  },
  {
   "cell_type": "code",
   "execution_count": null,
   "metadata": {
    "collapsed": true
   },
   "outputs": [],
   "source": []
  }
 ],
 "metadata": {
  "kernelspec": {
   "display_name": "Python 2",
   "language": "python",
   "name": "python2"
  },
  "language_info": {
   "codemirror_mode": {
    "name": "ipython",
    "version": 2
   },
   "file_extension": ".py",
   "mimetype": "text/x-python",
   "name": "python",
   "nbconvert_exporter": "python",
   "pygments_lexer": "ipython2",
   "version": "2.7.12"
  }
 },
 "nbformat": 4,
 "nbformat_minor": 2
}
